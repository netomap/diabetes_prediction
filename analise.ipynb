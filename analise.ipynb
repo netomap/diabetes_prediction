{
 "cells": [
  {
   "cell_type": "code",
   "execution_count": 1,
   "id": "6e991d98",
   "metadata": {},
   "outputs": [],
   "source": [
    "import pandas as pd\n",
    "import numpy as np\n",
    "\n",
    "import matplotlib.pyplot as plt\n",
    "import seaborn as sns\n",
    "\n",
    "from sklearn.model_selection import train_test_split\n",
    "from sklearn.preprocessing import MinMaxScaler\n",
    "\n",
    "import warnings\n",
    "warnings.filterwarnings(\"ignore\")\n",
    "\n",
    "from sklearn.linear_model import LogisticRegression\n",
    "from sklearn.neighbors import KNeighborsClassifier\n",
    "from sklearn.tree import DecisionTreeClassifier\n",
    "from sklearn.ensemble import RandomForestClassifier\n",
    "from sklearn.ensemble import GradientBoostingClassifier\n",
    "from sklearn.dummy import DummyClassifier\n",
    "from sklearn.metrics import accuracy_score, classification_report, confusion_matrix, recall_score, precision_score, f1_score"
   ]
  },
  {
   "cell_type": "markdown",
   "id": "684cf5b2",
   "metadata": {},
   "source": [
    "# Análise dos dados"
   ]
  },
  {
   "cell_type": "code",
   "execution_count": 2,
   "id": "462f48f3",
   "metadata": {},
   "outputs": [],
   "source": [
    "dataset = pd.read_csv('diabetes_prediction_dataset.csv')"
   ]
  },
  {
   "cell_type": "code",
   "execution_count": 3,
   "id": "96259e65",
   "metadata": {},
   "outputs": [
    {
     "data": {
      "text/html": [
       "<div>\n",
       "<style scoped>\n",
       "    .dataframe tbody tr th:only-of-type {\n",
       "        vertical-align: middle;\n",
       "    }\n",
       "\n",
       "    .dataframe tbody tr th {\n",
       "        vertical-align: top;\n",
       "    }\n",
       "\n",
       "    .dataframe thead th {\n",
       "        text-align: right;\n",
       "    }\n",
       "</style>\n",
       "<table border=\"1\" class=\"dataframe\">\n",
       "  <thead>\n",
       "    <tr style=\"text-align: right;\">\n",
       "      <th></th>\n",
       "      <th>genero</th>\n",
       "      <th>idade</th>\n",
       "      <th>hipertensao</th>\n",
       "      <th>doenca_cardiaca</th>\n",
       "      <th>historico_tabagismo</th>\n",
       "      <th>gordura_corporal</th>\n",
       "      <th>acucar_sangue_ha_2_meses</th>\n",
       "      <th>nivel_glicose_sangue</th>\n",
       "      <th>diabetes</th>\n",
       "    </tr>\n",
       "  </thead>\n",
       "  <tbody>\n",
       "    <tr>\n",
       "      <th>62087</th>\n",
       "      <td>Male</td>\n",
       "      <td>65.0</td>\n",
       "      <td>0</td>\n",
       "      <td>0</td>\n",
       "      <td>No Info</td>\n",
       "      <td>32.98</td>\n",
       "      <td>4.5</td>\n",
       "      <td>126</td>\n",
       "      <td>0</td>\n",
       "    </tr>\n",
       "    <tr>\n",
       "      <th>39024</th>\n",
       "      <td>Female</td>\n",
       "      <td>29.0</td>\n",
       "      <td>0</td>\n",
       "      <td>0</td>\n",
       "      <td>former</td>\n",
       "      <td>27.32</td>\n",
       "      <td>4.8</td>\n",
       "      <td>160</td>\n",
       "      <td>0</td>\n",
       "    </tr>\n",
       "    <tr>\n",
       "      <th>62264</th>\n",
       "      <td>Female</td>\n",
       "      <td>54.0</td>\n",
       "      <td>0</td>\n",
       "      <td>0</td>\n",
       "      <td>never</td>\n",
       "      <td>24.51</td>\n",
       "      <td>6.0</td>\n",
       "      <td>145</td>\n",
       "      <td>0</td>\n",
       "    </tr>\n",
       "    <tr>\n",
       "      <th>54973</th>\n",
       "      <td>Male</td>\n",
       "      <td>11.0</td>\n",
       "      <td>0</td>\n",
       "      <td>0</td>\n",
       "      <td>No Info</td>\n",
       "      <td>16.95</td>\n",
       "      <td>6.1</td>\n",
       "      <td>85</td>\n",
       "      <td>0</td>\n",
       "    </tr>\n",
       "  </tbody>\n",
       "</table>\n",
       "</div>"
      ],
      "text/plain": [
       "       genero  idade  hipertensao  doenca_cardiaca historico_tabagismo  \\\n",
       "62087    Male   65.0            0                0             No Info   \n",
       "39024  Female   29.0            0                0              former   \n",
       "62264  Female   54.0            0                0               never   \n",
       "54973    Male   11.0            0                0             No Info   \n",
       "\n",
       "       gordura_corporal  acucar_sangue_ha_2_meses  nivel_glicose_sangue  \\\n",
       "62087             32.98                       4.5                   126   \n",
       "39024             27.32                       4.8                   160   \n",
       "62264             24.51                       6.0                   145   \n",
       "54973             16.95                       6.1                    85   \n",
       "\n",
       "       diabetes  \n",
       "62087         0  \n",
       "39024         0  \n",
       "62264         0  \n",
       "54973         0  "
      ]
     },
     "execution_count": 3,
     "metadata": {},
     "output_type": "execute_result"
    }
   ],
   "source": [
    "df = dataset.copy()\n",
    "df.sample(4)"
   ]
  },
  {
   "cell_type": "code",
   "execution_count": 4,
   "id": "2554e56a",
   "metadata": {},
   "outputs": [
    {
     "data": {
      "text/plain": [
       "(100000, 9)"
      ]
     },
     "execution_count": 4,
     "metadata": {},
     "output_type": "execute_result"
    }
   ],
   "source": [
    "df.shape"
   ]
  },
  {
   "cell_type": "code",
   "execution_count": 5,
   "id": "86d0a9b5",
   "metadata": {},
   "outputs": [
    {
     "name": "stdout",
     "output_type": "stream",
     "text": [
      "<class 'pandas.core.frame.DataFrame'>\n",
      "RangeIndex: 100000 entries, 0 to 99999\n",
      "Data columns (total 9 columns):\n",
      " #   Column                    Non-Null Count   Dtype  \n",
      "---  ------                    --------------   -----  \n",
      " 0   genero                    100000 non-null  object \n",
      " 1   idade                     100000 non-null  float64\n",
      " 2   hipertensao               100000 non-null  int64  \n",
      " 3   doenca_cardiaca           100000 non-null  int64  \n",
      " 4   historico_tabagismo       100000 non-null  object \n",
      " 5   gordura_corporal          100000 non-null  float64\n",
      " 6   acucar_sangue_ha_2_meses  100000 non-null  float64\n",
      " 7   nivel_glicose_sangue      100000 non-null  int64  \n",
      " 8   diabetes                  100000 non-null  int64  \n",
      "dtypes: float64(3), int64(4), object(2)\n",
      "memory usage: 6.9+ MB\n"
     ]
    }
   ],
   "source": [
    "df.info()"
   ]
  },
  {
   "cell_type": "code",
   "execution_count": 6,
   "id": "79463d75",
   "metadata": {},
   "outputs": [
    {
     "data": {
      "text/plain": [
       "genero\n",
       "Female    58552\n",
       "Male      41430\n",
       "Other        18\n",
       "Name: count, dtype: int64"
      ]
     },
     "execution_count": 6,
     "metadata": {},
     "output_type": "execute_result"
    }
   ],
   "source": [
    "df['genero'].value_counts()"
   ]
  },
  {
   "cell_type": "code",
   "execution_count": 7,
   "id": "182423ef",
   "metadata": {},
   "outputs": [
    {
     "data": {
      "text/plain": [
       "genero\n",
       "1    58552\n",
       "0    41430\n",
       "2       18\n",
       "Name: count, dtype: int64"
      ]
     },
     "execution_count": 7,
     "metadata": {},
     "output_type": "execute_result"
    }
   ],
   "source": [
    "df['genero'] = df['genero'].map({'Male': 0, 'Female': 1, 'Other': 2})\n",
    "df['genero'].value_counts()"
   ]
  },
  {
   "cell_type": "code",
   "execution_count": 8,
   "id": "f4d871a1",
   "metadata": {},
   "outputs": [
    {
     "data": {
      "text/plain": [
       "historico_tabagismo\n",
       "No Info        35816\n",
       "never          35095\n",
       "former          9352\n",
       "current         9286\n",
       "not current     6447\n",
       "ever            4004\n",
       "Name: count, dtype: int64"
      ]
     },
     "execution_count": 8,
     "metadata": {},
     "output_type": "execute_result"
    }
   ],
   "source": [
    "df['historico_tabagismo'].value_counts()"
   ]
  },
  {
   "cell_type": "markdown",
   "id": "f1e60e58",
   "metadata": {},
   "source": [
    "- Para simplificar o estudo, vamos substituir os valores para um número de gravidade onde never é o menor e current é o maior, de mais gravidade"
   ]
  },
  {
   "cell_type": "code",
   "execution_count": 9,
   "id": "37556965",
   "metadata": {},
   "outputs": [],
   "source": [
    "dicionario_gravidade = {\n",
    "    'never': 1,       # Risco mais baixo\n",
    "    'not current': 2, \n",
    "    'former': 3,  \n",
    "    'current': 4,     # Risco mais alto\n",
    "    'No Info': 0, # Dado faltante,\n",
    "    'ever': 3 # estilo former, já fumou em algum momento\n",
    "}\n",
    "\n",
    "df['historico_tabagismo'] = df['historico_tabagismo'].map(dicionario_gravidade)"
   ]
  },
  {
   "cell_type": "code",
   "execution_count": 10,
   "id": "c30e1d3a",
   "metadata": {},
   "outputs": [
    {
     "data": {
      "text/html": [
       "<div>\n",
       "<style scoped>\n",
       "    .dataframe tbody tr th:only-of-type {\n",
       "        vertical-align: middle;\n",
       "    }\n",
       "\n",
       "    .dataframe tbody tr th {\n",
       "        vertical-align: top;\n",
       "    }\n",
       "\n",
       "    .dataframe thead th {\n",
       "        text-align: right;\n",
       "    }\n",
       "</style>\n",
       "<table border=\"1\" class=\"dataframe\">\n",
       "  <thead>\n",
       "    <tr style=\"text-align: right;\">\n",
       "      <th></th>\n",
       "      <th>genero</th>\n",
       "      <th>idade</th>\n",
       "      <th>hipertensao</th>\n",
       "      <th>doenca_cardiaca</th>\n",
       "      <th>historico_tabagismo</th>\n",
       "      <th>gordura_corporal</th>\n",
       "      <th>acucar_sangue_ha_2_meses</th>\n",
       "      <th>nivel_glicose_sangue</th>\n",
       "      <th>diabetes</th>\n",
       "    </tr>\n",
       "  </thead>\n",
       "  <tbody>\n",
       "    <tr>\n",
       "      <th>44669</th>\n",
       "      <td>1</td>\n",
       "      <td>29.0</td>\n",
       "      <td>0</td>\n",
       "      <td>0</td>\n",
       "      <td>4</td>\n",
       "      <td>36.21</td>\n",
       "      <td>6.2</td>\n",
       "      <td>85</td>\n",
       "      <td>0</td>\n",
       "    </tr>\n",
       "    <tr>\n",
       "      <th>76878</th>\n",
       "      <td>1</td>\n",
       "      <td>14.0</td>\n",
       "      <td>0</td>\n",
       "      <td>0</td>\n",
       "      <td>0</td>\n",
       "      <td>27.32</td>\n",
       "      <td>6.6</td>\n",
       "      <td>155</td>\n",
       "      <td>0</td>\n",
       "    </tr>\n",
       "    <tr>\n",
       "      <th>91050</th>\n",
       "      <td>1</td>\n",
       "      <td>10.0</td>\n",
       "      <td>0</td>\n",
       "      <td>0</td>\n",
       "      <td>0</td>\n",
       "      <td>22.68</td>\n",
       "      <td>6.5</td>\n",
       "      <td>130</td>\n",
       "      <td>0</td>\n",
       "    </tr>\n",
       "    <tr>\n",
       "      <th>36364</th>\n",
       "      <td>1</td>\n",
       "      <td>42.0</td>\n",
       "      <td>0</td>\n",
       "      <td>0</td>\n",
       "      <td>2</td>\n",
       "      <td>27.32</td>\n",
       "      <td>5.7</td>\n",
       "      <td>126</td>\n",
       "      <td>0</td>\n",
       "    </tr>\n",
       "  </tbody>\n",
       "</table>\n",
       "</div>"
      ],
      "text/plain": [
       "       genero  idade  hipertensao  doenca_cardiaca  historico_tabagismo  \\\n",
       "44669       1   29.0            0                0                    4   \n",
       "76878       1   14.0            0                0                    0   \n",
       "91050       1   10.0            0                0                    0   \n",
       "36364       1   42.0            0                0                    2   \n",
       "\n",
       "       gordura_corporal  acucar_sangue_ha_2_meses  nivel_glicose_sangue  \\\n",
       "44669             36.21                       6.2                    85   \n",
       "76878             27.32                       6.6                   155   \n",
       "91050             22.68                       6.5                   130   \n",
       "36364             27.32                       5.7                   126   \n",
       "\n",
       "       diabetes  \n",
       "44669         0  \n",
       "76878         0  \n",
       "91050         0  \n",
       "36364         0  "
      ]
     },
     "execution_count": 10,
     "metadata": {},
     "output_type": "execute_result"
    }
   ],
   "source": [
    "df.sample(4)"
   ]
  },
  {
   "cell_type": "code",
   "execution_count": 11,
   "id": "5cc80dcf",
   "metadata": {},
   "outputs": [
    {
     "data": {
      "text/plain": [
       "diabetes\n",
       "0    91500\n",
       "1     8500\n",
       "Name: count, dtype: int64"
      ]
     },
     "execution_count": 11,
     "metadata": {},
     "output_type": "execute_result"
    }
   ],
   "source": [
    "df['diabetes'].value_counts()"
   ]
  },
  {
   "cell_type": "markdown",
   "id": "9bb783d7",
   "metadata": {},
   "source": [
    "- Outro dataset que parece ser desbalanceado. Somente 8,5% da feature preditora tem valor positivo. Vamos continuar com a análise e ver como o modelo performa."
   ]
  },
  {
   "cell_type": "markdown",
   "id": "d3347153",
   "metadata": {},
   "source": [
    "# Preparando o dataset"
   ]
  },
  {
   "cell_type": "code",
   "execution_count": 12,
   "id": "a15ea058",
   "metadata": {},
   "outputs": [
    {
     "name": "stdout",
     "output_type": "stream",
     "text": [
      "x_train.shape=(80000, 8)\n",
      "x_test.shape=(20000, 8)\n",
      "y_train.shape=(80000,)\n",
      "y_test.shape=(20000,)\n"
     ]
    }
   ],
   "source": [
    "def preparar_dataset():\n",
    "    df = pd.read_csv('diabetes_prediction_dataset.csv')\n",
    "    df['genero'] = df['genero'].map({'Male': 0, 'Female': 1, 'Other': 2})\n",
    "    dicionario_gravidade = {\n",
    "        'never': 1,       # Risco mais baixo\n",
    "        'not current': 2, \n",
    "        'former': 3,  \n",
    "        'current': 4,     # Risco mais alto\n",
    "        'No Info': 0, # Dado faltante,\n",
    "        'ever': 3 # estilo former, já fumou em algum momento\n",
    "    }\n",
    "    df['historico_tabagismo'] = df['historico_tabagismo'].map(dicionario_gravidade)\n",
    "    \n",
    "    x = df.drop(columns=['diabetes'])\n",
    "    y = df['diabetes']\n",
    "\n",
    "    scaler = MinMaxScaler(feature_range=(-1, 1))\n",
    "    x_train, x_test, y_train, y_test = train_test_split(x, y, test_size=0.2, stratify=y)\n",
    "\n",
    "    x_train = scaler.fit_transform(x_train)\n",
    "    x_test = scaler.transform(x_test)\n",
    "\n",
    "    return x_train, x_test, y_train, y_test\n",
    "\n",
    "x_train, x_test, y_train, y_test = preparar_dataset()\n",
    "print (f'{x_train.shape=}\\n{x_test.shape=}\\n{y_train.shape=}\\n{y_test.shape=}')"
   ]
  },
  {
   "cell_type": "markdown",
   "id": "b2d8a967",
   "metadata": {},
   "source": [
    "- Verificando a distribuição de classes tanto no treino quanto no teste"
   ]
  },
  {
   "cell_type": "code",
   "execution_count": 13,
   "id": "1ab1dc12",
   "metadata": {},
   "outputs": [
    {
     "data": {
      "image/png": "[encoded data removed]",
      "text/plain": [
       "<Figure size 1000x500 with 2 Axes>"
      ]
     },
     "metadata": {},
     "output_type": "display_data"
    }
   ],
   "source": [
    "plt.figure(figsize=(10, 5))\n",
    "\n",
    "plt.subplot(1, 2, 1)\n",
    "valores = pd.DataFrame(y_train).value_counts().plot(kind='pie', autopct='%1.1f%%')\n",
    "plt.title('Treino')\n",
    "\n",
    "plt.subplot(1, 2, 2)\n",
    "valores = pd.DataFrame(y_test).value_counts().plot(kind='pie', autopct='%1.1f%%')\n",
    "plt.title('Teste')\n",
    "\n",
    "plt.show()\n"
   ]
  },
  {
   "cell_type": "markdown",
   "id": "e2a1185a",
   "metadata": {},
   "source": [
    "# Criando um modelo"
   ]
  },
  {
   "cell_type": "code",
   "execution_count": 14,
   "id": "1104a148",
   "metadata": {},
   "outputs": [],
   "source": [
    "resultado = []\n",
    "\n",
    "def treinamento(nome, model_):\n",
    "    x_train, x_test, y_train, y_test = preparar_dataset()\n",
    "\n",
    "    model_.fit(x_train, y_train)\n",
    "    y_pred = model_.predict(x_test)\n",
    "\n",
    "    classification_report_ = classification_report(y_test, y_pred, output_dict=True)\n",
    "    aux = classification_report_['0']\n",
    "    aux['model'] = nome\n",
    "    aux['label'] = '0'\n",
    "    resultado.append(aux)\n",
    "\n",
    "    aux = classification_report_['1']\n",
    "    aux['model'] = nome\n",
    "    aux['label'] = '1'\n",
    "    resultado.append(aux)\n",
    "\n",
    "modelos = [\n",
    "    ('Dummy', DummyClassifier()),\n",
    "    ('Logistic Regression', LogisticRegression()),\n",
    "    ('KNN', KNeighborsClassifier()),\n",
    "    ('Decision Tree', DecisionTreeClassifier()),\n",
    "    ('Random Forest', RandomForestClassifier()),\n",
    "    ('Gradient Boosting', GradientBoostingClassifier())\n",
    "]\n",
    "\n",
    "for nome, modelo in modelos:\n",
    "    treinamento(nome, modelo)\n",
    "\n",
    "resultado = pd.DataFrame(resultado)\n",
    "resultado = resultado[['model', 'label', 'precision', 'recall', 'f1-score']]"
   ]
  },
  {
   "cell_type": "code",
   "execution_count": 17,
   "id": "e153809f",
   "metadata": {},
   "outputs": [
    {
     "data": {
      "image/png": "[encoded data removed]",
      "text/plain": [
       "<Figure size 1000x500 with 1 Axes>"
      ]
     },
     "metadata": {},
     "output_type": "display_data"
    }
   ],
   "source": [
    "resultado[resultado['label'] == '1']['f1-score'].plot(kind='bar', figsize=(10, 5), legend=True)\n",
    "plt.title('F1-Score - Classe 1')\n",
    "plt.xticks([i for i in range(len(resultado[resultado['label'] == '1']))], resultado[resultado['label'] == '1']['model'], rotation=0)\n",
    "plt.xlabel('Modelos')\n",
    "plt.ylabel('F1-Score')\n",
    "plt.show()"
   ]
  },
  {
   "cell_type": "markdown",
   "id": "de46ceff",
   "metadata": {},
   "source": [
    "- Vamos escolher o Gradient Boosting como o modelo selecionado\n",
    "---"
   ]
  },
  {
   "cell_type": "code",
   "execution_count": 19,
   "id": "96355088",
   "metadata": {},
   "outputs": [
    {
     "name": "stdout",
     "output_type": "stream",
     "text": [
      "              precision    recall  f1-score   support\n",
      "\n",
      "           0       0.97      1.00      0.99     18300\n",
      "           1       0.99      0.69      0.81      1700\n",
      "\n",
      "    accuracy                           0.97     20000\n",
      "   macro avg       0.98      0.84      0.90     20000\n",
      "weighted avg       0.97      0.97      0.97     20000\n",
      "\n"
     ]
    }
   ],
   "source": [
    "x_train, x_test, y_train, y_test = preparar_dataset()\n",
    "\n",
    "model = GradientBoostingClassifier()\n",
    "model.fit(x_train, y_train)\n",
    "y_pred = model.predict(x_test)\n",
    "\n",
    "print(classification_report(y_test, y_pred))"
   ]
  }
 ],
 "metadata": {
  "kernelspec": {
   "display_name": "Python 3",
   "language": "python",
   "name": "python3"
  },
  "language_info": {
   "codemirror_mode": {
    "name": "ipython",
    "version": 3
   },
   "file_extension": ".py",
   "mimetype": "text/x-python",
   "name": "python",
   "nbconvert_exporter": "python",
   "pygments_lexer": "ipython3",
   "version": "3.10.8"
  }
 },
 "nbformat": 4,
 "nbformat_minor": 5
}
